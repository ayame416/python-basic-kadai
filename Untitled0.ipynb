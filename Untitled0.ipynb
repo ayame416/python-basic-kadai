{
  "cells": [
    {
      "cell_type": "code",
      "execution_count": null,
      "metadata": {},
      "outputs": [],
      "source": [
        "上辺= 10\n",
        "下辺= 20\n",
        "高さ= 5\n",
        "\n",
        "print(\"台形の面積=\", (上辺+ 下辺) * 高さ/ 2)"
      ]
    }
  ],
  "metadata": {
    "colab": {
      "provenance": []
    },
    "kernelspec": {
      "display_name": "Python 3",
      "name": "python3"
    },
    "language_info": {
      "name": "python"
    }
  },
  "nbformat": 4,
  "nbformat_minor": 0
}
