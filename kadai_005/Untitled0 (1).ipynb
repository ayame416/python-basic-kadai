{
  "nbformat": 4,
  "nbformat_minor": 0,
  "metadata": {
    "colab": {
      "provenance": []
    },
    "kernelspec": {
      "name": "python3",
      "display_name": "Python 3"
    },
    "language_info": {
      "name": "python"
    }
  },
  "cells": [
    {
      "cell_type": "code",
      "source": [
        "a=10 # 上辺\n",
        "b=20 # 下辺\n",
        "h=5 # 高さ\n",
        "\n",
        "# 上辺と下辺を足す\n",
        "\n",
        "tatol_base = a + b\n",
        "\n",
        "# （上辺 ＋ 下辺）* 高さを計算\n",
        "\n",
        "area_temp = tatol_base * h\n",
        "\n",
        "#それを２で割って面積を求める\n",
        "\n",
        "area = area_temp / 2\n",
        "\n",
        "print(f\"台形の面積は{area} 平方センチメートルです。\")\n"
      ],
      "metadata": {
        "colab": {
          "base_uri": "https://localhost:8080/"
        },
        "id": "OKplJKPMN1Th",
        "outputId": "69851e14-cd0a-4a36-f7e8-966917a59e22"
      },
      "execution_count": 2,
      "outputs": [
        {
          "output_type": "stream",
          "name": "stdout",
          "text": [
            "台形の面積は75.0 平方センチメートルです。\n"
          ]
        }
      ]
    }
  ]
}