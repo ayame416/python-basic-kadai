{
  "nbformat": 4,
  "nbformat_minor": 0,
  "metadata": {
    "colab": {
      "provenance": []
    },
    "kernelspec": {
      "name": "python3",
      "display_name": "Python 3"
    },
    "language_info": {
      "name": "python"
    }
  },
  "cells": [
    {
      "cell_type": "code",
      "source": [
        "上辺= 10\n",
        "下辺= 20\n",
        "高さ= 5\n",
        "\n",
        "print(\"台形の面積=\", (上辺+ 下辺) * 高さ/ 2, \"cm²\")"
      ],
      "metadata": {
        "colab": {
          "base_uri": "https://localhost:8080/"
        },
        "id": "OKplJKPMN1Th",
        "outputId": "5ec044e8-6762-4dc1-f0d3-4f4dccfe88dd"
      },
      "execution_count": 46,
      "outputs": [
        {
          "output_type": "stream",
          "name": "stdout",
          "text": [
            "台形の面積= 75.0 cm²\n"
          ]
        }
      ]
    }
  ]
}