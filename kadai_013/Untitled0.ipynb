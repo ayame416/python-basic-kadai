{
  "nbformat": 4,
  "nbformat_minor": 0,
  "metadata": {
    "colab": {
      "provenance": []
    },
    "kernelspec": {
      "name": "python3",
      "display_name": "Python 3"
    },
    "language_info": {
      "name": "python"
    }
  },
  "cells": [
    {
      "cell_type": "code",
      "source": [
        "def add_product_tax (product,tax):\n",
        "\n",
        "  total = product * (tax/100 + 1)\n",
        "\n",
        "  print(f\"{total}円\")\n",
        "\n",
        "add_product_tax(110,10)"
      ],
      "metadata": {
        "colab": {
          "base_uri": "https://localhost:8080/"
        },
        "id": "2dzC9Nf-KToN",
        "outputId": "d9f1a7a6-a523-4fd1-be8a-496866b664da"
      },
      "execution_count": 22,
      "outputs": [
        {
          "output_type": "stream",
          "name": "stdout",
          "text": [
            "121.00000000000001円\n"
          ]
        }
      ]
    }
  ]
}